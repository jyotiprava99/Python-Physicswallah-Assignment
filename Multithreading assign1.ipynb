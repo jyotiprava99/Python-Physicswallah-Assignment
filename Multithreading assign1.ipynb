{
 "cells": [
  {
   "cell_type": "markdown",
   "id": "fc8ede6d-092d-47c3-a406-205218f17ede",
   "metadata": {},
   "source": [
    "1. what is multithreading in python? why is it used? Name the module used to handle threads in python\n",
    "2. why threading module used? write the use of the following functions\n",
    "activeCount()\n",
    " currentThread()\n",
    " enumerate()\n",
    "3. Explain the following functions\n",
    " run()\n",
    " start()\n",
    " join()\n",
    "isAlive()\n",
    "4. write a python program to create two threads. Thread one must print the list of squares and thread two must print the list of cubes\n",
    "5. State advantages and disadvantages of multithreading\n",
    "6. Explain deadlocks and race conditions.\n"
   ]
  },
  {
   "cell_type": "markdown",
   "id": "be1b75a7-5281-471b-8174-ac8c09cd8e71",
   "metadata": {},
   "source": [
    "\n",
    "\n",
    "1. **Multithreading in Python**:\n",
    "   - Multithreading in Python refers to the concurrent execution of multiple threads within the same process. Each thread represents a separate flow of control, allowing tasks to be executed concurrently.\n",
    "   - It is used to improve the responsiveness of applications by performing multiple tasks simultaneously, making efficient use of CPU resources, and enabling parallelism.\n",
    "   - The module used to handle threads in Python is called the `threading` module.\n",
    "\n",
    "2. **Threading Module**:\n",
    "   - The `threading` module in Python is used to handle threads.\n",
    "   - `activeCount()`: Returns the number of active threads in the current program.\n",
    "   - `currentThread()`: Returns the current thread object.\n",
    "   - `enumerate()`: Returns a list of all active Thread objects.\n",
    "\n",
    "3. **Thread Functions**:\n",
    "   - `run()`: Defines the entry point for the thread's activity. It's called when the `start()` method is called.\n",
    "   - `start()`: Starts the thread's activity by calling the `run()` method.\n",
    "   - `join()`: Waits for the thread to complete its execution.\n",
    "   - `isAlive()`: Returns True if the thread is currently executing.\n",
    "\n",
    "4. **Python Program with Threads**:\n",
    "   ```python\n",
    "   import threading\n",
    "\n",
    "   def print_squares():\n",
    "       for i in range(1, 6):\n",
    "           print(f\"Square of {i} is {i*i}\")\n",
    "\n",
    "   def print_cubes():\n",
    "       for i in range(1, 6):\n",
    "           print(f\"Cube of {i} is {i*i*i}\")\n",
    "\n",
    "   t1 = threading.Thread(target=print_squares)\n",
    "   t2 = threading.Thread(target=print_cubes)\n",
    "\n",
    "   t1.start()\n",
    "   t2.start()\n",
    "\n",
    "   t1.join()\n",
    "   t2.join()\n",
    "   ```\n",
    "\n",
    "5. **Advantages and Disadvantages of Multithreading**:\n",
    "   - **Advantages**:\n",
    "     - Improved performance: Utilizes multiple CPU cores simultaneously, leading to faster execution of tasks.\n",
    "     - Better responsiveness: Allows applications to remain responsive during time-consuming operations.\n",
    "     - Resource sharing: Threads can share resources within the same process, reducing memory consumption and overhead.\n",
    "   - **Disadvantages**:\n",
    "     - Complexity: Multithreading introduces complexity due to potential race conditions, deadlocks, and synchronization issues.\n",
    "     - Debugging difficulty: Debugging multithreaded applications can be challenging, as issues may arise due to non-deterministic behavior.\n",
    "     - GIL limitations: In Python, the Global Interpreter Lock (GIL) limits true parallelism, making it less effective for CPU-bound tasks.\n",
    "\n",
    "6. **Deadlocks and Race Conditions**:\n",
    "   - **Deadlock**: Deadlock occurs when two or more threads are waiting for each other to release resources that they need to proceed. As a result, all threads become stuck, and the program hangs indefinitely.\n",
    "   - **Race Condition**: A race condition occurs when the outcome of a program depends on the relative timing or interleaving of multiple threads. It arises when multiple threads access shared resources without proper synchronization, leading to unpredictable behavior.\n",
    "\n"
   ]
  },
  {
   "cell_type": "code",
   "execution_count": null,
   "id": "8d771e65-834f-4f9c-bc0d-ecb11d879714",
   "metadata": {},
   "outputs": [],
   "source": []
  }
 ],
 "metadata": {
  "kernelspec": {
   "display_name": "Python 3 (ipykernel)",
   "language": "python",
   "name": "python3"
  },
  "language_info": {
   "codemirror_mode": {
    "name": "ipython",
    "version": 3
   },
   "file_extension": ".py",
   "mimetype": "text/x-python",
   "name": "python",
   "nbconvert_exporter": "python",
   "pygments_lexer": "ipython3",
   "version": "3.11.7"
  }
 },
 "nbformat": 4,
 "nbformat_minor": 5
}
