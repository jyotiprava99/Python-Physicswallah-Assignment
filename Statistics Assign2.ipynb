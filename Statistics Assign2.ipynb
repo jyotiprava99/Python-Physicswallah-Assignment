{
 "cells": [
  {
   "cell_type": "markdown",
   "id": "c42416e8-c027-4dc1-947b-a5c144a55bce",
   "metadata": {},
   "source": [
    "Q1. What are the three measures of central tendency?"
   ]
  },
  {
   "cell_type": "markdown",
   "id": "895d12eb-cb67-4420-8995-df9670752f02",
   "metadata": {},
   "source": [
    "Q2. What is the difference between the mean, median, and mode? How are they used to measure the\n",
    "central tendency of a dataset?"
   ]
  },
  {
   "cell_type": "markdown",
   "id": "a9d6fad3-8683-45f8-9087-de8b2aee3e42",
   "metadata": {},
   "source": [
    "Q3. Measure the three measures of central tendency for the given height data:\n",
    "[178,177,176,177,178.2,178,175,179,180,175,178.9,176.2,177,172.5,178,176.5]"
   ]
  },
  {
   "cell_type": "markdown",
   "id": "3d7aaabb-de1a-483f-9bb7-92551905663c",
   "metadata": {},
   "source": [
    "Q4. Find the standard deviation for the given data:\n",
    "[178,177,176,177,178.2,178,175,179,180,175,178.9,176.2,177,172.5,178,176.5]"
   ]
  },
  {
   "cell_type": "markdown",
   "id": "50aecf3c-d59b-44fe-b553-a65c70c2f906",
   "metadata": {},
   "source": [
    "Q5. How are measures of dispersion such as range, variance, and standard deviation used to describe\n",
    "the spread of a dataset? Provide an example."
   ]
  },
  {
   "cell_type": "markdown",
   "id": "11580fc1-c1b5-41c7-9ad1-f8d95c27373d",
   "metadata": {},
   "source": [
    "Q6. What is a Venn diagram?"
   ]
  },
  {
   "cell_type": "markdown",
   "id": "6615eeb5-f046-4aa6-9a8b-c97718503795",
   "metadata": {},
   "source": [
    "Q7. For the two given sets A = (2,3,4,5,6,7) & B = (0,2,6,8,10). Find:\n",
    "(i) A n B\n",
    "(ii) A ⋃ B"
   ]
  },
  {
   "cell_type": "markdown",
   "id": "7c358b47-d385-4872-b723-e6fa2c341c20",
   "metadata": {},
   "source": [
    "Q8. What do you understand about skewness in data?"
   ]
  },
  {
   "cell_type": "markdown",
   "id": "e1f366d2-aaaa-4578-a109-c967f62b87a0",
   "metadata": {},
   "source": [
    "Q9. If a data is right skewed then what will be the position of median with respect to mean?"
   ]
  },
  {
   "cell_type": "markdown",
   "id": "6020bddf-37d2-463d-b7dd-d6266081af9b",
   "metadata": {},
   "source": [
    "Q10. Explain the difference between covariance and correlation. How are these measures used in\n",
    "statistical analysis?"
   ]
  },
  {
   "cell_type": "markdown",
   "id": "8dc01d11-63ca-4e47-9908-243a7643eee7",
   "metadata": {},
   "source": [
    "Q11. What is the formula for calculating the sample mean? Provide an example calculation for a\n",
    "dataset."
   ]
  },
  {
   "cell_type": "markdown",
   "id": "c249edd0-0d08-424a-b978-4d8be1805d4b",
   "metadata": {},
   "source": [
    "Q12. For a normal distribution data what is the relationship between its measure of central tendency?"
   ]
  },
  {
   "cell_type": "markdown",
   "id": "cb670026-9e89-4faf-8b81-75938573f003",
   "metadata": {},
   "source": [
    "Q13. How is covariance different from correlation?"
   ]
  },
  {
   "cell_type": "markdown",
   "id": "a1c40e77-bf74-4695-91d9-6630fc38c12c",
   "metadata": {},
   "source": [
    "Q14. How do outliers affect measures of central tendency and dispersion? Provide an example."
   ]
  },
  {
   "cell_type": "markdown",
   "id": "cc21e43e-972a-48e7-a0a6-fc472a24a969",
   "metadata": {},
   "source": [
    "\n",
    "\n",
    "**Q1. What are the three measures of central tendency?**\n",
    "The three measures of central tendency are:\n",
    "1. Mean\n",
    "2. Median\n",
    "3. Mode\n",
    "\n",
    "**Q2. What is the difference between the mean, median, and mode? How are they used to measure the central tendency of a dataset?**\n",
    "- Mean: The mean is the average value of a dataset calculated by summing all values and dividing by the total number of values. It is sensitive to outliers.\n",
    "- Median: The median is the middle value of a dataset when values are arranged in ascending order. It is less affected by outliers compared to the mean.\n",
    "- Mode: The mode is the value that appears most frequently in a dataset. It is used for categorical data or when identifying the most common value in a dataset.\n",
    "\n",
    "**Q3. Measure the three measures of central tendency for the given height data: [178,177,176,177,178.2,178,175,179,180,175,178.9,176.2,177,172.5,178,176.5]**\n",
    "- Mean: (178 + 177 + 176 + ... + 176.5) / 15 = 177.225\n",
    "- Median: Arrange data in ascending order: 172.5, 175, 175, ..., 180. Median = 177\n",
    "- Mode: 178 appears most frequently.\n",
    "\n",
    "**Q4. Find the standard deviation for the given data: [178,177,176,177,178.2,178,175,179,180,175,178.9,176.2,177,172.5,178,176.5]**\n",
    "The standard deviation measures the dispersion or spread of the data around the mean. You can calculate it using the formula and then apply it to the given dataset.\n",
    "\n",
    "**Q5. How are measures of dispersion such as range, variance, and standard deviation used to describe the spread of a dataset? Provide an example.**\n",
    "Measures of dispersion provide information about the variability or spread of data points in a dataset. Range gives the difference between the maximum and minimum values. Variance and standard deviation quantify the spread of data points around the mean.\n",
    "\n",
    "**Q6. What is a Venn diagram?**\n",
    "A Venn diagram is a visual representation of sets using circles or other shapes. It illustrates the relationships between different sets by showing the intersections and unions of the sets.\n",
    "\n",
    "**Q7. For the two given sets A = (2,3,4,5,6,7) & B = (0,2,6,8,10). Find:**\n",
    "(i) A ∩ B (Intersection): Common elements between sets A and B. Result: {2, 6}\n",
    "(ii) A ⋃ B (Union): All elements from sets A and B without repetition. Result: {0, 2, 3, 4, 5, 6, 7, 8, 10}\n",
    "\n",
    "**Q8. What do you understand about skewness in data?**\n",
    "Skewness measures the asymmetry of the probability distribution of a real-valued random variable about its mean. Positive skewness indicates a longer or fatter tail on the right side of the distribution, while negative skewness indicates a longer or fatter tail on the left side.\n",
    "\n",
    "**Q9. If a data is right-skewed then what will be the position of median with respect to mean?**\n",
    "In a right-skewed distribution, the tail of the distribution extends towards higher values. Consequently, the mean is greater than the median.\n",
    "\n",
    "**Q10. Explain the difference between covariance and correlation. How are these measures used in statistical analysis?**\n",
    "Covariance measures the degree to which two variables change together. Correlation measures the strength and direction of the linear relationship between two variables, standardized to be between -1 and 1. Covariance and correlation are used to assess the relationship between variables in statistical analysis.\n",
    "\n",
    "I'll continue with the remaining questions in the next response!\n",
    "\n",
    "**Q11. What is the formula for calculating the sample mean? Provide an example calculation for a dataset.**\n",
    "The formula for calculating the sample mean (or average) is:\n",
    "\\[ \\text{Mean} = \\frac{\\text{Sum of all values}}{\\text{Number of values}} \\]\n",
    "For example, let's calculate the mean for the dataset [10, 15, 20, 25, 30]:\n",
    "\\[ \\text{Mean} = \\frac{10 + 15 + 20 + 25 + 30}{5} = \\frac{100}{5} = 20 \\]\n",
    "\n",
    "**Q12. For a normal distribution data what is the relationship between its measure of central tendency?**\n",
    "In a normal distribution:\n",
    "- The mean, median, and mode are all equal.\n",
    "- They are located at the center of the distribution, and the distribution is symmetric around them.\n",
    "\n",
    "**Q13. How is covariance different from correlation?**\n",
    "- Covariance measures the extent to which two variables change together. It indicates the direction of the linear relationship between variables but does not provide the strength of the relationship.\n",
    "- Correlation measures both the strength and direction of the linear relationship between two variables. It is a standardized measure that ranges from -1 to 1, where 1 indicates a perfect positive linear relationship, -1 indicates a perfect negative linear relationship, and 0 indicates no linear relationship.\n",
    "\n",
    "**Q14. How do outliers affect measures of central tendency and dispersion? Provide an example.**\n",
    "- Outliers can significantly affect measures of central tendency, such as the mean, by pulling their value towards themselves. This effect is more pronounced in the mean than in the median and mode.\n",
    "- Outliers can also affect measures of dispersion, such as the range, variance, and standard deviation, by increasing their values, indicating greater spread in the dataset.\n",
    "For example, in the dataset [10, 20, 30, 40, 50, 200], the presence of the outlier 200 significantly increases the mean and standard deviation, reflecting the impact of the outlier on the measures of central tendency and dispersion."
   ]
  },
  {
   "cell_type": "code",
   "execution_count": null,
   "id": "b22af936-60d1-4b72-9127-4df77bdbda35",
   "metadata": {},
   "outputs": [],
   "source": []
  }
 ],
 "metadata": {
  "kernelspec": {
   "display_name": "Python 3 (ipykernel)",
   "language": "python",
   "name": "python3"
  },
  "language_info": {
   "codemirror_mode": {
    "name": "ipython",
    "version": 3
   },
   "file_extension": ".py",
   "mimetype": "text/x-python",
   "name": "python",
   "nbconvert_exporter": "python",
   "pygments_lexer": "ipython3",
   "version": "3.11.7"
  }
 },
 "nbformat": 4,
 "nbformat_minor": 5
}
