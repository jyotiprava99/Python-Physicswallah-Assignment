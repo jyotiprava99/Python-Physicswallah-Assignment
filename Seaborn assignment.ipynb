{
 "cells": [
  {
   "cell_type": "markdown",
   "id": "4345137f-1cb4-4266-ac13-f5f9bd463057",
   "metadata": {},
   "source": [
    "Que 1: Name any five plots that we can plot using the Seaborn library. Also, state the uses of each plot.\n",
    "\n",
    "Que 2: Load the \"fmri\" dataset using the load_dataset function of seaborn. Plot a line plot using x =\n",
    "\"timepoint\" and y = \"signal\" for different events and regions.\n",
    "Note: timepoint, signal, event, and region are columns in the fmri dataset.\n",
    "\n",
    "Que 3: Load the \"titanic\" dataset using the load_dataset function of seaborn. Plot two box plots using x =\n",
    "'pclass', y = 'age' and y = 'fare'.\n",
    "\n",
    "Note: pclass, age, and fare are columns in the titanic dataset.\n",
    "Que 4: Use the \"diamonds\" dataset from seaborn to plot a histogram for the 'price' column. Use the hue\n",
    "parameter for the 'cut' column of the diamonds dataset.\n",
    "\n",
    "Que 5: Use the \"iris\" dataset from seaborn to plot a pair plot. Use the hue parameter for the \"species\" column\n",
    "of the iris dataset.\n",
    "\n",
    "Que 6: Use the \"flights\" dataset from seaborn to plot a heatmap."
   ]
  },
  {
   "cell_type": "markdown",
   "id": "fdc6783a-f9d1-42f3-84ab-efeee85553e5",
   "metadata": {},
   "source": [
    "\n",
    "**Que 1: Five plots that can be plotted using the Seaborn library and their uses:**\n",
    "\n",
    "1. **Scatter Plot**: Used to visualize the relationship between two continuous variables. It helps in identifying patterns, clusters, and outliers in the data.\n",
    "   \n",
    "2. **Line Plot**: Shows the relationship between two continuous variables over time or any other continuous scale. It is useful for visualizing trends and patterns in time series data.\n",
    "\n",
    "3. **Bar Plot**: Used to compare the values of a categorical variable across different groups. It is helpful in visualizing the distribution or frequency of categories.\n",
    "\n",
    "4. **Histogram**: Shows the distribution of a single continuous variable by dividing the data into bins and displaying the frequency or count of observations in each bin. It helps in understanding the shape of the data distribution.\n",
    "\n",
    "5. **Box Plot**: Summarizes the distribution of a continuous variable using quartiles. It provides information about the central tendency, spread, and presence of outliers in the data.\n",
    "\n",
    "**Que 2: Line plot using the \"fmri\" dataset:**\n",
    "```python\n",
    "import seaborn as sns\n",
    "\n",
    "# Load the \"fmri\" dataset\n",
    "fmri_data = sns.load_dataset(\"fmri\")\n",
    "\n",
    "# Plot line plot\n",
    "sns.lineplot(data=fmri_data, x=\"timepoint\", y=\"signal\", hue=\"event\", style=\"region\")\n",
    "```\n",
    "\n",
    "**Que 3: Box plots using the \"titanic\" dataset:**\n",
    "```python\n",
    "# Load the \"titanic\" dataset\n",
    "titanic_data = sns.load_dataset(\"titanic\")\n",
    "\n",
    "# Plot box plots\n",
    "sns.boxplot(data=titanic_data, x='pclass', y='age')\n",
    "sns.boxplot(data=titanic_data, x='pclass', y='fare')\n",
    "```\n",
    "\n",
    "**Que 4: Histogram using the \"diamonds\" dataset:**\n",
    "```python\n",
    "# Load the \"diamonds\" dataset\n",
    "diamonds_data = sns.load_dataset(\"diamonds\")\n",
    "\n",
    "# Plot histogram\n",
    "sns.histplot(data=diamonds_data, x='price', hue='cut')\n",
    "```\n",
    "\n",
    "**Que 5: Pair plot using the \"iris\" dataset:**\n",
    "```python\n",
    "# Load the \"iris\" dataset\n",
    "iris_data = sns.load_dataset(\"iris\")\n",
    "\n",
    "# Plot pair plot\n",
    "sns.pairplot(data=iris_data, hue='species')\n",
    "```\n",
    "\n",
    "**Que 6: Heatmap using the \"flights\" dataset:**\n",
    "```python\n",
    "# Load the \"flights\" dataset\n",
    "flights_data = sns.load_dataset(\"flights\")\n",
    "\n",
    "# Pivot the data to create a matrix for heatmap\n",
    "flights_pivot = flights_data.pivot_table(index='month', columns='year', values='passengers')\n",
    "\n",
    "# Plot heatmap\n",
    "sns.heatmap(data=flights_pivot, cmap=\"YlGnBu\")\n",
    "```\n",
    "\n"
   ]
  },
  {
   "cell_type": "markdown",
   "id": "cf29ee46-20d0-4d54-90c4-e034b5573cb4",
   "metadata": {},
   "source": [
    "Sure, here are the answers to your questions:\n",
    "\n",
    "**Que 1: Five plots that can be plotted using the Seaborn library and their uses:**\n",
    "\n",
    "1. **Scatter Plot**: Used to visualize the relationship between two continuous variables. It helps in identifying patterns, clusters, and outliers in the data.\n",
    "   \n",
    "2. **Line Plot**: Shows the relationship between two continuous variables over time or any other continuous scale. It is useful for visualizing trends and patterns in time series data.\n",
    "\n",
    "3. **Bar Plot**: Used to compare the values of a categorical variable across different groups. It is helpful in visualizing the distribution or frequency of categories.\n",
    "\n",
    "4. **Histogram**: Shows the distribution of a single continuous variable by dividing the data into bins and displaying the frequency or count of observations in each bin. It helps in understanding the shape of the data distribution.\n",
    "\n",
    "5. **Box Plot**: Summarizes the distribution of a continuous variable using quartiles. It provides information about the central tendency, spread, and presence of outliers in the data.\n",
    "\n",
    "**Que 2: Line plot using the \"fmri\" dataset:**\n",
    "```python\n",
    "import seaborn as sns\n",
    "\n",
    "# Load the \"fmri\" dataset\n",
    "fmri_data = sns.load_dataset(\"fmri\")\n",
    "\n",
    "# Plot line plot\n",
    "sns.lineplot(data=fmri_data, x=\"timepoint\", y=\"signal\", hue=\"event\", style=\"region\")\n",
    "```\n",
    "\n",
    "**Que 3: Box plots using the \"titanic\" dataset:**\n",
    "```python\n",
    "# Load the \"titanic\" dataset\n",
    "titanic_data = sns.load_dataset(\"titanic\")\n",
    "\n",
    "# Plot box plots\n",
    "sns.boxplot(data=titanic_data, x='pclass', y='age')\n",
    "sns.boxplot(data=titanic_data, x='pclass', y='fare')\n",
    "```\n",
    "\n",
    "**Que 4: Histogram using the \"diamonds\" dataset:**\n",
    "```python\n",
    "# Load the \"diamonds\" dataset\n",
    "diamonds_data = sns.load_dataset(\"diamonds\")\n",
    "\n",
    "# Plot histogram\n",
    "sns.histplot(data=diamonds_data, x='price', hue='cut')\n",
    "```\n",
    "\n",
    "**Que 5: Pair plot using the \"iris\" dataset:**\n",
    "```python\n",
    "# Load the \"iris\" dataset\n",
    "iris_data = sns.load_dataset(\"iris\")\n",
    "\n",
    "# Plot pair plot\n",
    "sns.pairplot(data=iris_data, hue='species')\n",
    "```\n",
    "\n",
    "**Que 6: Heatmap using the \"flights\" dataset:**\n",
    "```python\n",
    "# Load the \"flights\" dataset\n",
    "flights_data = sns.load_dataset(\"flights\")\n",
    "\n",
    "# Pivot the data to create a matrix for heatmap\n",
    "flights_pivot = flights_data.pivot_table(index='month', columns='year', values='passengers')\n",
    "\n",
    "# Plot heatmap\n",
    "sns.heatmap(data=flights_pivot, cmap=\"YlGnBu\")\n",
    "```\n",
    "\n",
    "These are some examples of plots and their implementations using the Seaborn library in Python. Let me know if you need further clarification on any of these examples!"
   ]
  },
  {
   "cell_type": "code",
   "execution_count": null,
   "id": "4c963a1d-608b-4fdc-b3ab-a220c81ed901",
   "metadata": {},
   "outputs": [],
   "source": [
    "import seaborn as sns\n",
    "\n",
    "# Load the \"fmri\" dataset\n",
    "fmri_data = sns.load_dataset(\"fmri\")\n",
    "\n",
    "# Plot line plot\n",
    "sns.lineplot(data=fmri_data, x=\"timepoint\", y=\"signal\", hue=\"event\", style=\"region\")"
   ]
  },
  {
   "cell_type": "code",
   "execution_count": null,
   "id": "7f978b99-bb0b-406d-acc7-c6a2fa869fb4",
   "metadata": {},
   "outputs": [],
   "source": [
    "**Que 3: Box plots using the \"titanic\" dataset:**\n",
    "```python\n",
    "# Load the \"titanic\" dataset\n",
    "titanic_data = sns.load_dataset(\"titanic\")\n",
    "\n",
    "# Plot box plots\n",
    "sns.boxplot(data=titanic_data, x='pclass', y='age')\n",
    "sns.boxplot(data=titanic_data, x='pclass', y='fare')"
   ]
  },
  {
   "cell_type": "code",
   "execution_count": null,
   "id": "cb72468a-d82b-4e33-a21e-3b3b9887ab7d",
   "metadata": {},
   "outputs": [],
   "source": []
  },
  {
   "cell_type": "code",
   "execution_count": null,
   "id": "1c863373-0fa9-4685-b944-e66036157a21",
   "metadata": {},
   "outputs": [],
   "source": []
  },
  {
   "cell_type": "code",
   "execution_count": null,
   "id": "4e9ee7aa-d215-4bbb-8fce-bedb7a17b626",
   "metadata": {},
   "outputs": [],
   "source": []
  },
  {
   "cell_type": "code",
   "execution_count": null,
   "id": "fcf853d8-4646-4b03-ab0a-a97e8388ea45",
   "metadata": {},
   "outputs": [],
   "source": []
  },
  {
   "cell_type": "code",
   "execution_count": null,
   "id": "e8830db4-9eba-4c78-936e-6f724b3a8310",
   "metadata": {},
   "outputs": [],
   "source": []
  },
  {
   "cell_type": "code",
   "execution_count": null,
   "id": "62c170ff-8c0f-4e9a-81f3-148daea20faa",
   "metadata": {},
   "outputs": [],
   "source": []
  },
  {
   "cell_type": "code",
   "execution_count": null,
   "id": "f3ef3126-d199-4810-b592-352bb105d3a1",
   "metadata": {},
   "outputs": [],
   "source": []
  },
  {
   "cell_type": "code",
   "execution_count": null,
   "id": "0e22b53f-70ba-4b18-a281-0695666b7c31",
   "metadata": {},
   "outputs": [],
   "source": []
  },
  {
   "cell_type": "code",
   "execution_count": null,
   "id": "363e26a5-1715-48f3-839d-a65f98cb577c",
   "metadata": {},
   "outputs": [],
   "source": []
  },
  {
   "cell_type": "code",
   "execution_count": null,
   "id": "fe431969-a435-436a-8e19-7c753f325b3f",
   "metadata": {},
   "outputs": [],
   "source": []
  },
  {
   "cell_type": "code",
   "execution_count": null,
   "id": "867435a6-f6cb-474e-82b4-c8ad40fca137",
   "metadata": {},
   "outputs": [],
   "source": []
  },
  {
   "cell_type": "code",
   "execution_count": null,
   "id": "12862a5b-2722-40ff-86b2-e3c0042ebec2",
   "metadata": {},
   "outputs": [],
   "source": []
  },
  {
   "cell_type": "code",
   "execution_count": null,
   "id": "a58b5e68-1705-4c17-b76f-10d8ce90c3e4",
   "metadata": {},
   "outputs": [],
   "source": []
  },
  {
   "cell_type": "code",
   "execution_count": null,
   "id": "3112c450-ec54-43cb-8b51-512f28f597c2",
   "metadata": {},
   "outputs": [],
   "source": []
  },
  {
   "cell_type": "code",
   "execution_count": null,
   "id": "83f89913-fd03-479d-9b1f-de28531b06d9",
   "metadata": {},
   "outputs": [],
   "source": []
  },
  {
   "cell_type": "code",
   "execution_count": null,
   "id": "6de3d07b-63a3-4577-9978-f4b3bc75cc2c",
   "metadata": {},
   "outputs": [],
   "source": []
  },
  {
   "cell_type": "code",
   "execution_count": null,
   "id": "9c172f59-5f55-4396-9d6d-9d0be7152e94",
   "metadata": {},
   "outputs": [],
   "source": []
  },
  {
   "cell_type": "code",
   "execution_count": null,
   "id": "23487423-13c9-4644-b0ed-ed554748b717",
   "metadata": {},
   "outputs": [],
   "source": []
  },
  {
   "cell_type": "code",
   "execution_count": null,
   "id": "960bb02a-0086-4127-b599-c21940055705",
   "metadata": {},
   "outputs": [],
   "source": []
  },
  {
   "cell_type": "code",
   "execution_count": null,
   "id": "cb1c704b-6e60-4bdc-a809-f49655ec60ff",
   "metadata": {},
   "outputs": [],
   "source": []
  },
  {
   "cell_type": "code",
   "execution_count": null,
   "id": "8da58516-28f7-4d86-a4be-a577927e2382",
   "metadata": {},
   "outputs": [],
   "source": []
  },
  {
   "cell_type": "code",
   "execution_count": null,
   "id": "978b3624-f04d-43ce-bc6a-3119bd8305ca",
   "metadata": {},
   "outputs": [],
   "source": []
  },
  {
   "cell_type": "code",
   "execution_count": null,
   "id": "d17f7f84-31f0-4578-bc52-f0156a1def89",
   "metadata": {},
   "outputs": [],
   "source": []
  },
  {
   "cell_type": "code",
   "execution_count": null,
   "id": "451ce895-753e-4b19-81e6-0a8bf5e443a7",
   "metadata": {},
   "outputs": [],
   "source": []
  },
  {
   "cell_type": "code",
   "execution_count": null,
   "id": "8dbdcc8f-0ed7-4271-a881-a40ee28dff21",
   "metadata": {},
   "outputs": [],
   "source": []
  },
  {
   "cell_type": "code",
   "execution_count": null,
   "id": "2e3edb67-f3ed-4546-b220-6554dd286506",
   "metadata": {},
   "outputs": [],
   "source": []
  },
  {
   "cell_type": "code",
   "execution_count": null,
   "id": "815483fc-927b-4e31-a47a-2b981bd43004",
   "metadata": {},
   "outputs": [],
   "source": []
  },
  {
   "cell_type": "code",
   "execution_count": null,
   "id": "ad89b146-3b34-4ec0-9a54-edb8492cc7bd",
   "metadata": {},
   "outputs": [],
   "source": []
  },
  {
   "cell_type": "code",
   "execution_count": null,
   "id": "75a3019b-5dd3-4f60-a970-7dbefb7865ad",
   "metadata": {},
   "outputs": [],
   "source": []
  },
  {
   "cell_type": "code",
   "execution_count": null,
   "id": "1cfac6fd-f769-4977-a14a-06c6ff2d34b8",
   "metadata": {},
   "outputs": [],
   "source": []
  },
  {
   "cell_type": "code",
   "execution_count": null,
   "id": "51c5dfbb-3c45-438c-acef-032e79fdca78",
   "metadata": {},
   "outputs": [],
   "source": []
  },
  {
   "cell_type": "code",
   "execution_count": null,
   "id": "edab88c7-7151-4d96-a938-f976d338b759",
   "metadata": {},
   "outputs": [],
   "source": []
  },
  {
   "cell_type": "code",
   "execution_count": null,
   "id": "4ba5c146-a74c-4b25-9b38-661cef4b3d47",
   "metadata": {},
   "outputs": [],
   "source": []
  },
  {
   "cell_type": "code",
   "execution_count": null,
   "id": "d67419fd-da1a-44b1-96b3-662bee435659",
   "metadata": {},
   "outputs": [],
   "source": []
  },
  {
   "cell_type": "code",
   "execution_count": null,
   "id": "7f58228d-5ddb-4b6b-bc34-729e98ed40be",
   "metadata": {},
   "outputs": [],
   "source": []
  },
  {
   "cell_type": "code",
   "execution_count": null,
   "id": "37bd956a-fa3c-4f17-818a-1a7ad932878d",
   "metadata": {},
   "outputs": [],
   "source": []
  },
  {
   "cell_type": "code",
   "execution_count": null,
   "id": "9c8008cf-eb9a-4692-b987-39aee1402f18",
   "metadata": {},
   "outputs": [],
   "source": []
  },
  {
   "cell_type": "code",
   "execution_count": null,
   "id": "32814fe7-49c3-414c-9ef0-c99f75384b84",
   "metadata": {},
   "outputs": [],
   "source": []
  },
  {
   "cell_type": "code",
   "execution_count": null,
   "id": "b20feeed-cf3c-430e-a468-e5c3b165a889",
   "metadata": {},
   "outputs": [],
   "source": []
  },
  {
   "cell_type": "code",
   "execution_count": null,
   "id": "585e554f-ac93-4c61-a1fc-51dadc98ff38",
   "metadata": {},
   "outputs": [],
   "source": []
  }
 ],
 "metadata": {
  "kernelspec": {
   "display_name": "Python 3 (ipykernel)",
   "language": "python",
   "name": "python3"
  },
  "language_info": {
   "codemirror_mode": {
    "name": "ipython",
    "version": 3
   },
   "file_extension": ".py",
   "mimetype": "text/x-python",
   "name": "python",
   "nbconvert_exporter": "python",
   "pygments_lexer": "ipython3",
   "version": "3.11.7"
  }
 },
 "nbformat": 4,
 "nbformat_minor": 5
}
