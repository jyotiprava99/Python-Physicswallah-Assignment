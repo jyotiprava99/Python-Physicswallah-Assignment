{
 "cells": [
  {
   "cell_type": "markdown",
   "id": "afaaf298-7327-414e-a3e2-8b3ed95c7999",
   "metadata": {},
   "source": [
    "Q1.Explain Class and Object with respect to OOP. Give suitable example"
   ]
  },
  {
   "cell_type": "markdown",
   "id": "63f5ff3b-1221-4efa-ba1a-684539bcdf5a",
   "metadata": {},
   "source": [
    "Class is a blueprint or template for creating objects. It defines the properties(attributes) and behavior(methods) that an object \n",
    "of the class will have.\n",
    "For example, we have a class called car . The car class would define the behaviour of a car such as starting , stopping and accelerating.\n",
    "\n",
    "An Object on other hand is an instance of the class. It is created based on the blueprint provided by the class. Going back to our car example\n",
    "an object of the Car class would be a specific car, such as a redFarrari with model year of 2020."
   ]
  },
  {
   "cell_type": "markdown",
   "id": "31a45731-d15f-4579-9aca-8a99fbbe4e6e",
   "metadata": {},
   "source": [
    "Q2.Name the Four pillars of OOPs"
   ]
  },
  {
   "cell_type": "markdown",
   "id": "05d93504-b766-4c88-8c3b-6ae0fcdf856b",
   "metadata": {},
   "source": [
    "The four pillars of oops are :\n",
    "Encapsulation, Inheritance, Polymorphism, and Abstraction"
   ]
  },
  {
   "cell_type": "markdown",
   "id": "7278fcf5-a7e2-452b-98ff-107bf390cba4",
   "metadata": {},
   "source": [
    "Q3.Explain why the __init__() function is used.Give the suitable example"
   ]
  },
  {
   "cell_type": "markdown",
   "id": "75362d3b-3c33-4c35-84b7-7bb5f3d7bbf7",
   "metadata": {},
   "source": [
    "__init__ function is a special method in Python classes that is used for initializing an object when it is created.\n",
    "It is called a constructor method because it helps setup the initial state of the object.\n",
    "\n"
   ]
  },
  {
   "cell_type": "code",
   "execution_count": 3,
   "id": "eb6e6dec-dc89-41ba-8f23-19104c5c13bd",
   "metadata": {},
   "outputs": [
    {
     "data": {
      "text/plain": [
       "('Jyoti', 'jyoti@gmail.com', 'Data Science')"
      ]
     },
     "execution_count": 3,
     "metadata": {},
     "output_type": "execute_result"
    }
   ],
   "source": [
    "#For example:\n",
    "class pwskills:\n",
    "    def __init__(self, name, mail_id, course):\n",
    "        self.name=name\n",
    "        self.mail_id=mail_id\n",
    "        self.course=course\n",
    "    def display_details(self):\n",
    "        return self.name,self.mail_id,self.course\n",
    "\n",
    "#object created\n",
    "pw = pwskills(\"Jyoti\", \"jyoti@gmail.com\", \"Data Science\")\n",
    "pw.display_details()\n"
   ]
  },
  {
   "cell_type": "markdown",
   "id": "fa6ff7de-1bf0-4c72-8239-a22ae9183a6a",
   "metadata": {},
   "source": [
    "Q4.What is inheritance? Give an example for each type of inheritance"
   ]
  },
  {
   "cell_type": "markdown",
   "id": "01770a66-2c59-496c-8ebd-2efd6ddc73a9",
   "metadata": {},
   "source": [
    "Ans-> Inheritance is a fundamental concept in object oriented programming(OOP) that allows a class to inherit properties\n",
    "and behaviour from another class. The class that is being inherited from is called the parent class or superclass and the class\n",
    "that inherits from it is called the child class or subclass."
   ]
  },
  {
   "cell_type": "code",
   "execution_count": 23,
   "id": "058a4cc8-7bd4-4739-8ed6-2da1f4ff4474",
   "metadata": {},
   "outputs": [],
   "source": [
    "#for example\n",
    "class pwskills:\n",
    "    def __init__(self, name, mail_id, phone_num):\n",
    "        self.name=name\n",
    "        self.mail_id=mail_id\n",
    "        self.phone_num=phone_num\n",
    "    def display_info(self):\n",
    "        return self.name,self.mail_id,self.phone_num"
   ]
  },
  {
   "cell_type": "code",
   "execution_count": 27,
   "id": "83123698-fd75-44fd-adbb-ee78af7458e4",
   "metadata": {},
   "outputs": [],
   "source": [
    "class pwskills1(pwskills):\n",
    "    def study(self):\n",
    "        print(f\"{self.name, self.mail_id, self.phone_num} This information is for Data science course\")"
   ]
  },
  {
   "cell_type": "code",
   "execution_count": 28,
   "id": "df36fd36-78fd-411a-a78a-694132eb31bd",
   "metadata": {},
   "outputs": [],
   "source": [
    "pw = pwskills1(\"jyoti\",\"jyoti@gmail.com\",7895640321)\n"
   ]
  },
  {
   "cell_type": "code",
   "execution_count": 29,
   "id": "eacd1f3e-2aed-4b3a-8b56-b6ccc2921b5b",
   "metadata": {},
   "outputs": [
    {
     "name": "stdout",
     "output_type": "stream",
     "text": [
      "('jyoti', 'jyoti@gmail.com', 7895640321) This information is for Data science course\n"
     ]
    }
   ],
   "source": [
    "pw.study()"
   ]
  },
  {
   "cell_type": "code",
   "execution_count": 22,
   "id": "bb5c82f2-6bb4-41b2-b001-ec02de2604f6",
   "metadata": {},
   "outputs": [
    {
     "name": "stdout",
     "output_type": "stream",
     "text": [
      "Buddy barks\n"
     ]
    }
   ],
   "source": [
    "#for example\n",
    "class Animal:\n",
    "    def __init__(self, name):\n",
    "        self.name=name\n",
    "    def speak(self):\n",
    "        print(f\"{self.name} makes a sound\")\n",
    "\n",
    "class Dog(Animal):\n",
    "    def __init__(self,name,breed):\n",
    "        super().__init__(name)\n",
    "        self.breed=breed\n",
    "    def speak(self):\n",
    "        print(f\"{self.name} barks\")\n",
    "\n",
    "my_dog = Dog(\"Buddy\", \"Labrador\")\n",
    "my_dog.speak()\n"
   ]
  },
  {
   "cell_type": "code",
   "execution_count": null,
   "id": "8aaf9ca7-d674-4488-9a6d-a0eeaa42dba6",
   "metadata": {},
   "outputs": [],
   "source": []
  }
 ],
 "metadata": {
  "kernelspec": {
   "display_name": "Python 3 (ipykernel)",
   "language": "python",
   "name": "python3"
  },
  "language_info": {
   "codemirror_mode": {
    "name": "ipython",
    "version": 3
   },
   "file_extension": ".py",
   "mimetype": "text/x-python",
   "name": "python",
   "nbconvert_exporter": "python",
   "pygments_lexer": "ipython3",
   "version": "3.11.7"
  }
 },
 "nbformat": 4,
 "nbformat_minor": 5
}
