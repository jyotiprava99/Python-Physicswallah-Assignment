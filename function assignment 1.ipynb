{
 "cells": [
  {
   "cell_type": "markdown",
   "id": "e3fa40a9-6085-41ff-8690-a90d6b3b0bcd",
   "metadata": {},
   "source": [
    "Q1. Which keyword is used to create a function? Create a function to return a list of odd numbers in the\n",
    "range of 1 to 25."
   ]
  },
  {
   "cell_type": "code",
   "execution_count": null,
   "id": "0a6b15cf-c2b2-4129-a4d3-579444699775",
   "metadata": {},
   "outputs": [],
   "source": [
    "def keyword is used to create a function"
   ]
  },
  {
   "cell_type": "code",
   "execution_count": 1,
   "id": "11c99f20-71d0-42ff-987f-347efd23061b",
   "metadata": {},
   "outputs": [
    {
     "data": {
      "text/plain": [
       "[1, 3, 5, 7, 9, 11, 13, 15, 17, 19, 21, 23, 25]"
      ]
     },
     "execution_count": 1,
     "metadata": {},
     "output_type": "execute_result"
    }
   ],
   "source": [
    "l1=[]\n",
    "def odd_num(n):\n",
    "    for i in range(1,n+1):\n",
    "        if i%2!= 0:\n",
    "            l1.append(i)\n",
    "\n",
    "odd= odd_num(25)\n",
    "odd\n",
    "l1"
   ]
  },
  {
   "cell_type": "markdown",
   "id": "e9c78453-e96e-4632-921a-befd34bbc2cc",
   "metadata": {},
   "source": [
    "Q2. Why *args and **kwargs is used in some functions? Create a function each for *args and **kwargs\n",
    "to demonstrate their use."
   ]
  },
  {
   "cell_type": "code",
   "execution_count": null,
   "id": "b4917579-0d7c-4ed2-bcaf-d27c1fb1669f",
   "metadata": {},
   "outputs": [],
   "source": [
    "#*args and **kwargs are used to pass a variable number of arguments to a function.\n",
    "#example of afunction that uses *args\n",
    "\n",
    "\n"
   ]
  },
  {
   "cell_type": "code",
   "execution_count": 2,
   "id": "f0ea54af-8d53-4138-b07a-7b62cfcd8789",
   "metadata": {},
   "outputs": [
    {
     "name": "stdout",
     "output_type": "stream",
     "text": [
      "Hello, jyoti\n",
      "Hello, prava\n",
      "Hello, samal\n"
     ]
    }
   ],
   "source": [
    "def greet(*args):\n",
    "    for i in args:\n",
    "        print(\"Hello,\", i)\n",
    "\n",
    "greet(\"jyoti\",\"prava\",\"samal\")"
   ]
  },
  {
   "cell_type": "code",
   "execution_count": 3,
   "id": "4e9c1bad-c07e-4be0-93f6-e76f4f9ebc24",
   "metadata": {},
   "outputs": [
    {
     "name": "stdout",
     "output_type": "stream",
     "text": [
      "name: alice\n",
      "age: 25\n",
      "city: odisha\n"
     ]
    }
   ],
   "source": [
    "#**kwargs\n",
    "def print_info(**kwargs):\n",
    "    for key, value in kwargs.items():\n",
    "        print(key+\":\",value)\n",
    "\n",
    "print_info(name= \"alice\", age =\"25\",city =\"odisha\")"
   ]
  },
  {
   "cell_type": "markdown",
   "id": "603f09f1-810c-45d1-8efb-747f6ef2d931",
   "metadata": {},
   "source": [
    "Q3. What is an iterator in python? Name the method used to initialise the iterator object and the method\n",
    "used for iteration. Use these methods to print the first five elements of the given list [2, 4, 6, 8, 10, 12, 14,\n",
    "16, 18, 20]."
   ]
  },
  {
   "cell_type": "code",
   "execution_count": 6,
   "id": "30b35c47-e221-4135-ac5d-894162f20966",
   "metadata": {},
   "outputs": [
    {
     "name": "stdout",
     "output_type": "stream",
     "text": [
      "2\n",
      "4\n",
      "6\n",
      "8\n",
      "10\n",
      "12\n",
      "14\n",
      "16\n",
      "18\n",
      "20\n"
     ]
    }
   ],
   "source": [
    "#An iterator in Python is an object that allows us to traverse through a collection of elements one by one .\n",
    "#It provide a way to access the elements of an object sequentially without knowing the internal implementation details.\n",
    "#To iterate through the elements of an iterator , we use the next() method. It retrieves the next element from the iterator.\n",
    "#We can call this method repeatedly to get the next element until the iterator is exhausted.\n",
    "\n",
    "my_list= [2,4,6,8,10,12,14,16,18,20]\n",
    "my_iterator = iter(my_list)\n",
    "for i in my_iterator:\n",
    "    print(i)"
   ]
  },
  {
   "cell_type": "markdown",
   "id": "8d140b3d-8d22-4647-9ded-6cc5c23a6eb0",
   "metadata": {},
   "source": [
    "Q4. What is a generator function in python? Why yield keyword is used? Give an example of a generator\n",
    "function."
   ]
  },
  {
   "cell_type": "code",
   "execution_count": 7,
   "id": "e77db792-3c37-4272-b4c4-1c14715cb2c4",
   "metadata": {},
   "outputs": [
    {
     "name": "stdout",
     "output_type": "stream",
     "text": [
      "0\n",
      "2\n",
      "4\n",
      "6\n",
      "8\n"
     ]
    }
   ],
   "source": [
    "#A Generator function in python is a special type of function that generates a sequence of values using the'yield' keyword.\n",
    "#Instead of returning a single value , a generator function can yield multiples values one at a time, pausing its execution \n",
    "#state between each yield.\n",
    "\"\"\"The yield keyword is used in generator function to define the points at which the fuction should pause and yield a value \n",
    "It allows the function to retain its state and resume execution from where the next value is requested.\n",
    "\"\"\"\n",
    "def even_num(n):\n",
    "    for i in range(n):\n",
    "        if i % 2==0:\n",
    "            yield i\n",
    "\n",
    "my_generator = even_num(10)\n",
    "for j in my_generator:\n",
    "    print(j)"
   ]
  },
  {
   "cell_type": "markdown",
   "id": "da8e5a0b-a5da-473f-86e3-ef5c5ef911f8",
   "metadata": {},
   "source": [
    "Q5. Create a generator function for prime numbers less than 1000. Use the next() method to print the\n",
    "first 20 prime numbers"
   ]
  },
  {
   "cell_type": "code",
   "execution_count": 22,
   "id": "0ae64ff2-061e-4b7b-9ff4-6efd77fd174a",
   "metadata": {},
   "outputs": [],
   "source": [
    "def prime_gen():\n",
    "    primes=[]\n",
    "    for i in range(2,1000):\n",
    "        is_prime = True\n",
    "        for j in primes:\n",
    "            if i % j ==0:\n",
    "                is_prime = False\n",
    "                break\n",
    "            if is_prime:\n",
    "                primes.append(i)\n",
    "                yield i\n",
    "\n",
    "my_generator = prime_gen()\n",
    "for k in my_generator:\n",
    "    print(k)"
   ]
  },
  {
   "cell_type": "markdown",
   "id": "599a236b-1e17-4a0c-bf8f-3106f31d9725",
   "metadata": {},
   "source": [
    "Q6. Write a python program to print the first 10 Fibonacci numbers using a while loop."
   ]
  },
  {
   "cell_type": "code",
   "execution_count": null,
   "id": "b6dcd8a2-1b5c-45e7-a3f1-4a3040ed9502",
   "metadata": {},
   "outputs": [],
   "source": [
    "num = int(input(\"Enter a terms:\")\n",
    "a,b = 0,1\n",
    "while num>0:\n",
    "    \n"
   ]
  },
  {
   "cell_type": "markdown",
   "id": "c17306b3-c7ee-45d0-a7e3-acd64ca53e4a",
   "metadata": {},
   "source": [
    "Q7. Write a List Comprehension to iterate through the given string: ‘pwskills’.\n",
    "Expected output: ['p', 'w', 's', 'k', 'i', 'l', 'l', 's']"
   ]
  },
  {
   "cell_type": "code",
   "execution_count": 26,
   "id": "d0628324-f5f2-4385-9c43-f7078ac4c8f5",
   "metadata": {},
   "outputs": [
    {
     "data": {
      "text/plain": [
       "['p', 'w', 's', 'k', 'i', 'l', 'l', 's']"
      ]
     },
     "execution_count": 26,
     "metadata": {},
     "output_type": "execute_result"
    }
   ],
   "source": [
    "l2=[]\n",
    "l1 = \"pwskills\"\n",
    "for i in l1:\n",
    "    l2.append(i)\n",
    "\n",
    "l2\n",
    "\n"
   ]
  },
  {
   "cell_type": "markdown",
   "id": "c324835c-a53b-4775-a1f5-d735bb3f3d09",
   "metadata": {},
   "source": [
    "Q8. Write a python program to check whether a given number is Palindrome or not using a while loop."
   ]
  },
  {
   "cell_type": "code",
   "execution_count": 2,
   "id": "bf76522f-dae7-4ed5-a2f1-7b8cba31cbbf",
   "metadata": {},
   "outputs": [
    {
     "name": "stdin",
     "output_type": "stream",
     "text": [
      "Enter a number: 1221\n"
     ]
    },
    {
     "name": "stdout",
     "output_type": "stream",
     "text": [
      "is a palindrome number\n"
     ]
    }
   ],
   "source": [
    "num = int(input(\"Enter a number:\"))\n",
    "temp = num\n",
    "rev = 0\n",
    "while temp >0:\n",
    "    rem = temp%10\n",
    "    rev = (rev*10)+rem\n",
    "    temp = temp//10\n",
    "\n",
    "if num == rev:\n",
    "    print(\"is a palindrome number\")\n",
    "\n",
    "else: \n",
    "    print(\"is not a palindrome number\")\n",
    "        "
   ]
  },
  {
   "cell_type": "markdown",
   "id": "2e678258-2d3e-4872-aa78-426ed090490c",
   "metadata": {},
   "source": [
    "Q9. Write a code to print odd numbers from 1 to 100 using list comprehension."
   ]
  },
  {
   "cell_type": "code",
   "execution_count": 4,
   "id": "32ea2d4a-23a5-48cd-94d5-e83c22bcdd34",
   "metadata": {},
   "outputs": [
    {
     "data": {
      "text/plain": [
       "[1,\n",
       " 3,\n",
       " 5,\n",
       " 7,\n",
       " 9,\n",
       " 11,\n",
       " 13,\n",
       " 15,\n",
       " 17,\n",
       " 19,\n",
       " 21,\n",
       " 23,\n",
       " 25,\n",
       " 27,\n",
       " 29,\n",
       " 31,\n",
       " 33,\n",
       " 35,\n",
       " 37,\n",
       " 39,\n",
       " 41,\n",
       " 43,\n",
       " 45,\n",
       " 47,\n",
       " 49,\n",
       " 51,\n",
       " 53,\n",
       " 55,\n",
       " 57,\n",
       " 59,\n",
       " 61,\n",
       " 63,\n",
       " 65,\n",
       " 67,\n",
       " 69,\n",
       " 71,\n",
       " 73,\n",
       " 75,\n",
       " 77,\n",
       " 79,\n",
       " 81,\n",
       " 83,\n",
       " 85,\n",
       " 87,\n",
       " 89,\n",
       " 91,\n",
       " 93,\n",
       " 95,\n",
       " 97,\n",
       " 99]"
      ]
     },
     "execution_count": 4,
     "metadata": {},
     "output_type": "execute_result"
    }
   ],
   "source": [
    "l2=[]\n",
    "def odd_num(n):\n",
    "    for i in range(1,n+1):\n",
    "        if i % 2!=0:\n",
    "            l2.append(i)\n",
    "\n",
    "odd = odd_num(100)\n",
    "odd\n",
    "l2"
   ]
  },
  {
   "cell_type": "code",
   "execution_count": null,
   "id": "59ca4b57-2516-4b1c-b728-6a6b632dc789",
   "metadata": {},
   "outputs": [],
   "source": []
  }
 ],
 "metadata": {
  "kernelspec": {
   "display_name": "Python 3 (ipykernel)",
   "language": "python",
   "name": "python3"
  },
  "language_info": {
   "codemirror_mode": {
    "name": "ipython",
    "version": 3
   },
   "file_extension": ".py",
   "mimetype": "text/x-python",
   "name": "python",
   "nbconvert_exporter": "python",
   "pygments_lexer": "ipython3",
   "version": "3.11.7"
  }
 },
 "nbformat": 4,
 "nbformat_minor": 5
}
