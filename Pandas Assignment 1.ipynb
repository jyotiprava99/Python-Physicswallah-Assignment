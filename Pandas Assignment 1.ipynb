{
 "cells": [
  {
   "cell_type": "markdown",
   "id": "4d23239b-4098-4012-8c2b-615000a4d207",
   "metadata": {},
   "source": [
    "Q1 Create a PandasSeries that contains the following data: 4,8,15,16,23 and 42. Then print the series"
   ]
  },
  {
   "cell_type": "code",
   "execution_count": 1,
   "id": "3c133618-4938-4f66-942a-51884b553be8",
   "metadata": {},
   "outputs": [
    {
     "data": {
      "text/plain": [
       "0     4\n",
       "1     8\n",
       "2    15\n",
       "3    16\n",
       "4    23\n",
       "5    42\n",
       "dtype: int64"
      ]
     },
     "execution_count": 1,
     "metadata": {},
     "output_type": "execute_result"
    }
   ],
   "source": [
    "import pandas as pd\n",
    "data = [4,8,15,16,23,42]\n",
    "series = pd.Series(data)\n",
    "series"
   ]
  },
  {
   "cell_type": "markdown",
   "id": "d514a9cc-fc6a-4ddd-9c6c-8674f50d671b",
   "metadata": {},
   "source": [
    "Q2: Create a variable of listtype containing 10 elements in it, and apply pandas. Sries function on the variable print it."
   ]
  },
  {
   "cell_type": "code",
   "execution_count": 3,
   "id": "f325a46d-1a9d-43de-b094-94fbb6599719",
   "metadata": {},
   "outputs": [
    {
     "name": "stdout",
     "output_type": "stream",
     "text": [
      "0    jyoti\n",
      "1       10\n",
      "2       13\n",
      "3       45\n",
      "4       56\n",
      "5       67\n",
      "dtype: object\n"
     ]
    }
   ],
   "source": [
    "data2 = [\"jyoti\",10,13,45,56,67]\n",
    "series2= pd.Series(data2)\n",
    "print(series2)"
   ]
  },
  {
   "cell_type": "markdown",
   "id": "8596a686-6031-46b9-866c-f8be25f93e1e",
   "metadata": {},
   "source": [
    "Q3: Create a Pandas Dataframe that contains the following data"
   ]
  },
  {
   "cell_type": "code",
   "execution_count": 9,
   "id": "27416e1e-543b-4539-a762-776db5e99b23",
   "metadata": {},
   "outputs": [
    {
     "data": {
      "text/html": [
       "<div>\n",
       "<style scoped>\n",
       "    .dataframe tbody tr th:only-of-type {\n",
       "        vertical-align: middle;\n",
       "    }\n",
       "\n",
       "    .dataframe tbody tr th {\n",
       "        vertical-align: top;\n",
       "    }\n",
       "\n",
       "    .dataframe thead th {\n",
       "        text-align: right;\n",
       "    }\n",
       "</style>\n",
       "<table border=\"1\" class=\"dataframe\">\n",
       "  <thead>\n",
       "    <tr style=\"text-align: right;\">\n",
       "      <th></th>\n",
       "      <th>Name</th>\n",
       "      <th>Age</th>\n",
       "      <th>Gender</th>\n",
       "    </tr>\n",
       "  </thead>\n",
       "  <tbody>\n",
       "    <tr>\n",
       "      <th>0</th>\n",
       "      <td>Alice</td>\n",
       "      <td>25</td>\n",
       "      <td>Female</td>\n",
       "    </tr>\n",
       "    <tr>\n",
       "      <th>1</th>\n",
       "      <td>Bob</td>\n",
       "      <td>30</td>\n",
       "      <td>Male</td>\n",
       "    </tr>\n",
       "    <tr>\n",
       "      <th>2</th>\n",
       "      <td>Claire</td>\n",
       "      <td>27</td>\n",
       "      <td>Female</td>\n",
       "    </tr>\n",
       "  </tbody>\n",
       "</table>\n",
       "</div>"
      ],
      "text/plain": [
       "     Name  Age  Gender\n",
       "0   Alice   25  Female\n",
       "1     Bob   30    Male\n",
       "2  Claire   27  Female"
      ]
     },
     "execution_count": 9,
     "metadata": {},
     "output_type": "execute_result"
    }
   ],
   "source": [
    "import pandas as pd\n",
    "data3 = { \"Name\" : [\"Alice\",\"Bob\",\"Claire\"],\n",
    "         \"Age\":[25,30,27],\n",
    "         \"Gender\":[\"Female\",\"Male\",\"Female\"]}\n",
    "df= pd.DataFrame(data3)\n",
    "df"
   ]
  },
  {
   "cell_type": "code",
   "execution_count": 8,
   "id": "bb99379c-1310-468c-8507-6fbb0228bc8e",
   "metadata": {},
   "outputs": [
    {
     "name": "stdout",
     "output_type": "stream",
     "text": [
      "     Name  Age  Gender\n",
      "0   Alice   25  Female\n",
      "1     Bob   30    Male\n",
      "2  Claire   27  Female\n"
     ]
    }
   ],
   "source": [
    "print(df)"
   ]
  },
  {
   "cell_type": "markdown",
   "id": "7c78636e-6e94-4c9c-844a-ac97674eab97",
   "metadata": {},
   "source": [
    "Q4: What is DataFrame in pandas and how is it different from pandas.Series? Explain with example?"
   ]
  },
  {
   "cell_type": "markdown",
   "id": "244b9e8c-9cf2-4dbf-ae66-4a1099c494c2",
   "metadata": {},
   "source": [
    "Ans:  DataFrame in pandas is like a table with rows and columns , similar to a spreadsheet. It's a 2-dimensional data structure that can hold different \n",
    "types of data. Where as a pandaseries is like a single column from a dataframe, with a labeled index."
   ]
  },
  {
   "cell_type": "markdown",
   "id": "712ff242-743e-4f19-a0bb-8e489496b11f",
   "metadata": {},
   "source": [
    "Q5: What are some common functions you can use to manipulate data in a pandas Dataframe ? Can you give an example of when you might use one of these\n",
    "functions?"
   ]
  },
  {
   "cell_type": "markdown",
   "id": "6365f314-8fbf-4a11-9ab3-5f8524a80c3e",
   "metadata": {},
   "source": [
    "Some of the common functions we can use to manipulate data in a pandas Dataframe.\n",
    "1.head()\n",
    "2.info()\n",
    "3.describe()\n",
    "4.drop()\n",
    "5.groupby()"
   ]
  },
  {
   "cell_type": "markdown",
   "id": "d52fb7b6-c428-41b9-9b4b-6aecae8dea1c",
   "metadata": {},
   "source": [
    "Q6: Which of the following is mutuable in nature Series, DataFrame, Panel?"
   ]
  },
  {
   "cell_type": "markdown",
   "id": "d1bcecb6-1d56-45ff-b953-a55684800e37",
   "metadata": {},
   "source": [
    "Ans: Series and DataFrame are mutable in nature. They can be modified and updated after they are created. "
   ]
  },
  {
   "cell_type": "markdown",
   "id": "5167230a-a39e-41ee-a529-fa9526eb2613",
   "metadata": {},
   "source": [
    "Q7: Create a DataFrame using multiple series. "
   ]
  },
  {
   "cell_type": "code",
   "execution_count": 10,
   "id": "08971331-5376-44e1-964a-6cd0f87360e2",
   "metadata": {},
   "outputs": [],
   "source": [
    "import pandas as pd\n",
    "name = [\"John\", \"Sam\", \"Nick\"]\n",
    "ps = pd.Series(name)\n",
    "age = [23,24,25]\n",
    "ps1 = pd.Series(age)\n",
    "gender = [\"Male\", \"Male\", \"Male\"]\n",
    "ps2 = pd.Series(gender)"
   ]
  },
  {
   "cell_type": "code",
   "execution_count": 11,
   "id": "ccc92a87-8636-4dbe-b730-514039c20451",
   "metadata": {},
   "outputs": [],
   "source": [
    "data4 = { \"Name\":name,\n",
    "         \"Age\":age,\n",
    "         \"Gender\":gender}\n",
    "df2 = pd.DataFrame(data4)"
   ]
  },
  {
   "cell_type": "code",
   "execution_count": 12,
   "id": "15f9bdab-0a81-4e6b-8c75-1211c2cbe933",
   "metadata": {},
   "outputs": [
    {
     "data": {
      "text/html": [
       "<div>\n",
       "<style scoped>\n",
       "    .dataframe tbody tr th:only-of-type {\n",
       "        vertical-align: middle;\n",
       "    }\n",
       "\n",
       "    .dataframe tbody tr th {\n",
       "        vertical-align: top;\n",
       "    }\n",
       "\n",
       "    .dataframe thead th {\n",
       "        text-align: right;\n",
       "    }\n",
       "</style>\n",
       "<table border=\"1\" class=\"dataframe\">\n",
       "  <thead>\n",
       "    <tr style=\"text-align: right;\">\n",
       "      <th></th>\n",
       "      <th>Name</th>\n",
       "      <th>Age</th>\n",
       "      <th>Gender</th>\n",
       "    </tr>\n",
       "  </thead>\n",
       "  <tbody>\n",
       "    <tr>\n",
       "      <th>0</th>\n",
       "      <td>John</td>\n",
       "      <td>23</td>\n",
       "      <td>Male</td>\n",
       "    </tr>\n",
       "    <tr>\n",
       "      <th>1</th>\n",
       "      <td>Sam</td>\n",
       "      <td>24</td>\n",
       "      <td>Male</td>\n",
       "    </tr>\n",
       "    <tr>\n",
       "      <th>2</th>\n",
       "      <td>Nick</td>\n",
       "      <td>25</td>\n",
       "      <td>Male</td>\n",
       "    </tr>\n",
       "  </tbody>\n",
       "</table>\n",
       "</div>"
      ],
      "text/plain": [
       "   Name  Age Gender\n",
       "0  John   23   Male\n",
       "1   Sam   24   Male\n",
       "2  Nick   25   Male"
      ]
     },
     "execution_count": 12,
     "metadata": {},
     "output_type": "execute_result"
    }
   ],
   "source": [
    "df2"
   ]
  },
  {
   "cell_type": "code",
   "execution_count": 13,
   "id": "308218b2-4f7d-4ed1-b2d8-044f76e11ca6",
   "metadata": {},
   "outputs": [
    {
     "name": "stdout",
     "output_type": "stream",
     "text": [
      "   Name  Age Gender\n",
      "0  John   23   Male\n",
      "1   Sam   24   Male\n",
      "2  Nick   25   Male\n"
     ]
    }
   ],
   "source": [
    "print(df2)"
   ]
  },
  {
   "cell_type": "code",
   "execution_count": null,
   "id": "d218756c-2465-4e11-9dbd-411b353af48d",
   "metadata": {},
   "outputs": [],
   "source": []
  }
 ],
 "metadata": {
  "kernelspec": {
   "display_name": "Python 3 (ipykernel)",
   "language": "python",
   "name": "python3"
  },
  "language_info": {
   "codemirror_mode": {
    "name": "ipython",
    "version": 3
   },
   "file_extension": ".py",
   "mimetype": "text/x-python",
   "name": "python",
   "nbconvert_exporter": "python",
   "pygments_lexer": "ipython3",
   "version": "3.11.7"
  }
 },
 "nbformat": 4,
 "nbformat_minor": 5
}
