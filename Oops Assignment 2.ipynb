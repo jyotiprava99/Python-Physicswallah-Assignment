{
 "cells": [
  {
   "cell_type": "markdown",
   "id": "ae933ba1-230d-4908-87ad-6df199ab21fa",
   "metadata": {},
   "source": [
    "Q1 What is Abstraction in oops? explain with an example?"
   ]
  },
  {
   "cell_type": "markdown",
   "id": "7c358ff5-52f9-4fe8-92fe-c5e87ec73ccb",
   "metadata": {},
   "source": [
    "Abstraction in OOP refers to the process of hiding complex details and only exposing essential information . It allows us to focus on what an object does \n",
    "rather than how it does it.\n",
    "for example let's say we have a class called \"Animal\" with methods like \"eat\" and \"sleep\". we don't need to know the internal details of how an animal eats or sleeps,\n",
    "we just know that it can perform those actions. \n"
   ]
  },
  {
   "cell_type": "markdown",
   "id": "72a885fa-4ca3-43a6-b7c7-734900cf4ef5",
   "metadata": {},
   "source": [
    "Q2 Differentiate between Abstraction and encapsulation? Explain with an example?"
   ]
  },
  {
   "cell_type": "markdown",
   "id": "2173e327-c219-455f-82d9-45eb2afd3cc5",
   "metadata": {},
   "source": [
    " Abstraction and encapsulation are two important concepts in object-oriented programming (OOP), but they serve different purposes.\n",
    "Abstraction focuses on hiding complex details and exposing only essential information. It allows us to work with objects at a higher level \n",
    "of understanding without worrying about the internal implementation. For example, when using a car,\n",
    "we don't need to know how the engine works or how the transmission system functions. We only need to know how to\n",
    "drive the car, which is the essential information required for our task.\n",
    "\n",
    "On the other hand, encapsulation is about bundling related data and methods into a single unit, which is called a class. \n",
    "It provides data hiding and protects the internal state of an object from direct access. Encapsulation allows us to control access\n",
    "to the internal data and ensures that it is manipulated only through defined methods. For example, in a class representing a bank account, \n",
    "we can have private variables like the account balance, and we provide public methods like deposit and withdraw to interact with the account.\n",
    "This way, the internal state of the account is encapsulated and can only be accessed and modified through the defined methods.\n",
    "\n",
    "To summarize, abstraction focuses on hiding complexity and exposing essential information, while encapsulation focuses on bundling related data and methods \n",
    "together and controlling access to them. Both concepts contribute to writing modular, maintainable, and secure code in OOP."
   ]
  },
  {
   "cell_type": "markdown",
   "id": "24d0a7f6-a9fd-48e9-a789-35d3c8b8229d",
   "metadata": {},
   "source": [
    "Q3 What is abc module in Python? why is it used?"
   ]
  },
  {
   "cell_type": "markdown",
   "id": "d2223d66-1fc7-4412-959b-17af4652b803",
   "metadata": {},
   "source": [
    "The 'abc' module in python stands for \"Abstract Base Classe\". It provides a way to define abstract classes in python.\n",
    "It is used to define abstract classes and enforce the implementation of certain methods in subclasses . It promotes code\n",
    "resuability, modularity and constitency in object- oriented programming.\n"
   ]
  },
  {
   "cell_type": "markdown",
   "id": "3454911c-dd3b-4eb7-b9d5-86a48794eb40",
   "metadata": {},
   "source": [
    "Q4 How can we achieve data abstraction ?"
   ]
  },
  {
   "cell_type": "markdown",
   "id": "f5abc2e9-a638-497c-a7fb-9725bc1ae204",
   "metadata": {},
   "source": [
    "To achieve data abstraction in Python, you can make use of classes and objects\n",
    "By defining classes, you can encapsulate related data and methods into a single unit. \n",
    "This allows you to abstract away the internal details of the data and provide a simplified interface for interacting with it.\n",
    "\n",
    "To implement data abstraction, you can define class attributes and methods that expose the essential information and operations, \n",
    "while hiding the underlying implementation details. This way, you can work with the data at a higher level of understanding without\n",
    "needing to know how it is stored or processed internally.\n",
    "\n",
    "For example, let's say you have a class called \"Employee\" with attributes like name, age, and salary. \n",
    "You can define methods like \"get_name()\" and \"get_salary()\" to retrieve the values of these attributes.\n",
    "By doing this, you abstract away the specific implementation details of how the name and salary are stored and provide a clean interface for accessing and manipulating the data.\n",
    "\n",
    "By using data abstraction, you can create more modular and maintainable code, as well as improve code readability and reusability."
   ]
  },
  {
   "cell_type": "markdown",
   "id": "b5edf4e4-aef9-48f9-86bd-9cff7ce42399",
   "metadata": {},
   "source": [
    "Q5 Can wwe create an instamce of an abstaract class? Explain your answer?"
   ]
  },
  {
   "cell_type": "markdown",
   "id": "04a764c0-f616-47b1-8d49-da153e6508c4",
   "metadata": {},
   "source": [
    "No, we cannot create an instance of an abstract class in Python. An abstract class is meant to be a blueprint for other classes to inherit from.\n",
    "It cannot be instantiated directly because it may contain one or more abstract methods that are meant to be implemented by its subclasses.\n",
    "\n",
    "To create an object of a class, you need to inherit from the abstract class and provide implementations for all the abstract methods defined in the abstract class. \n",
    "Once you have defined the necessary implementations, you can create instances of the subclass.\n",
    "\n",
    "In Python, you can use the abc module to define abstract base classes and enforce the implementation of abstract methods in subclasses.\n",
    "By inheriting from the abstract base class and providing implementations for the abstract methods, you can create objects of the subclass.\n",
    "\n",
    "So, while you cannot directly create an instance of an abstract class, you can create instances of its subclasses after implementing the required methods."
   ]
  }
 ],
 "metadata": {
  "kernelspec": {
   "display_name": "Python 3 (ipykernel)",
   "language": "python",
   "name": "python3"
  },
  "language_info": {
   "codemirror_mode": {
    "name": "ipython",
    "version": 3
   },
   "file_extension": ".py",
   "mimetype": "text/x-python",
   "name": "python",
   "nbconvert_exporter": "python",
   "pygments_lexer": "ipython3",
   "version": "3.11.7"
  }
 },
 "nbformat": 4,
 "nbformat_minor": 5
}
