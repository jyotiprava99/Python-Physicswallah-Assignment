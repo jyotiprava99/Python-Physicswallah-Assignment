{
 "cells": [
  {
   "cell_type": "markdown",
   "id": "0918322f-d1c5-41de-9abd-fc643d6cf6e1",
   "metadata": {},
   "source": [
    "Q1: What are the Probability Mass Function (PMF) and Probability Density Function (PDF)? Explain with\n",
    "an example.\n",
    "\n",
    "Q2: What is Cumulative Density Function (CDF)? Explain with an example. Why CDF is used?\n",
    "\n",
    "Q3: What are some examples of situations where the normal distribution might be used as a model?\n",
    "\n",
    "Explain how the parameters of the normal distribution relate to the shape of the distribution.\n",
    "Q4: Explain the importance of Normal Distribution. Give a few real-life examples of Normal\n",
    "Distribution.\n",
    "\n",
    "Q5: What is Bernaulli Distribution? Give an Example. What is the difference between Bernoulli\n",
    "Distribution and Binomial Distribution?\n",
    "\n",
    "Q6. Consider a dataset with a mean of 50 and a standard deviation of 10. If we assume that the dataset\n",
    "is normally distributed, what is the probability that a randomly selected observation will be greater\n",
    "than 60? Use the appropriate formula and show your calculations\n",
    ".\n",
    "Q7: Explain uniform Distribution with an example.\n",
    "\n",
    "Q8: What is the z score? State the importance of the z score.\n",
    "\n",
    "Q9: What is Central Limit Theorem? State the significance of the Central Limit Theorem.\n",
    "\n",
    "Q10: State the assumptions of the Central Limit Theorem."
   ]
  },
  {
   "cell_type": "markdown",
   "id": "c0945458-9ced-49e0-a57c-29f8e0cdcdeb",
   "metadata": {},
   "source": [
    "Q1: Probability Mass Function (PMF) and Probability Density Function (PDF) are both mathematical functions used in probability theory and statistics.\n",
    "\n",
    "- PMF: It gives the probability that a discrete random variable is equal to a certain value. For example, consider rolling a fair six-sided die. The PMF would assign a probability of 1/6 to each outcome (1, 2, 3, 4, 5, or 6).\n",
    "\n",
    "- PDF: It gives the probability density at a particular value of a continuous random variable. Unlike PMF, PDF doesn't directly give probabilities but rather density values. For example, consider the PDF of a normal distribution, which describes the probability density of observing a particular value from a continuous normal distribution.\n",
    "\n",
    "Q2: Cumulative Density Function (CDF) gives the probability that a random variable will take a value less than or equal to a given value. It accumulates the probabilities as you move along the range of possible values.\n",
    "\n",
    "- Example: In the case of rolling a fair six-sided die, the CDF would start at 0 for the first value and increase by 1/6 each time you move to the next value until it reaches 1 at the last value.\n",
    "\n",
    "- CDF is used to understand the probability distribution of a random variable, allowing for easy calculation of probabilities for various ranges of values.\n",
    "\n",
    "Q3: The normal distribution is commonly used to model situations where the data tends to cluster around a central value with no bias to either side and where rare events on both tails are equally likely.\n",
    "\n",
    "- Examples include the heights of people in a population, IQ scores, errors in measurements, and many more.\n",
    "\n",
    "- The parameters of the normal distribution are the mean (μ) and the standard deviation (σ), which determine the center and spread of the distribution, respectively. A higher mean shifts the distribution to the right, while a higher standard deviation spreads it out.\n",
    "\n",
    "Q4: The normal distribution is important because of its wide applicability in various fields due to the Central Limit Theorem. Real-life examples include:\n",
    "\n",
    "- Heights of people in a population\n",
    "- Weights of products manufactured in a factory\n",
    "- IQ scores in a population\n",
    "- Blood pressure measurements\n",
    "\n",
    "Q5: Bernoulli Distribution is a discrete probability distribution that models a single experiment with two possible outcomes: success (usually denoted as 1) or failure (usually denoted as 0). An example could be flipping a coin, where success might represent getting heads.\n",
    "\n",
    "- The difference between Bernoulli Distribution and Binomial Distribution lies in the number of trials. Bernoulli Distribution models a single trial, while Binomial Distribution models multiple independent Bernoulli trials.\n",
    "\n",
    "Q6: To find the probability that a randomly selected observation from a normally distributed dataset with a mean of 50 and a standard deviation of 10 is greater than 60, we need to use the standard normal distribution table or a statistical software.\n",
    "\n",
    "- We first convert the value of 60 to a z-score using the formula: \\( z = \\frac{x - \\mu}{\\sigma} \\), where \\( x \\) is the value (60), \\( \\mu \\) is the mean (50), and \\( \\sigma \\) is the standard deviation (10).\n",
    "- Then, we look up the z-score in the standard normal distribution table to find the probability corresponding to that z-score. Let's denote this probability as \\( P(Z > z) \\).\n",
    "\n",
    "Q7: Uniform Distribution is a probability distribution where every value within a certain range is equally likely to occur.\n",
    "\n",
    "- Example: Consider rolling a fair six-sided die. Each outcome (1, 2, 3, 4, 5, or 6) has an equal probability of 1/6.\n",
    "\n",
    "Q8: The z-score measures how many standard deviations an element is from the mean. It's important because it allows us to standardize normal distributions, making it easier to compare different datasets or observations.\n",
    "\n",
    "Q9: The Central Limit Theorem states that the sampling distribution of the sample mean approaches a normal distribution as the sample size increases, regardless of the shape of the population distribution. This theorem is significant because it allows us to make inferences about a population based on a sample.\n",
    "\n",
    "Q10: Assumptions of the Central Limit Theorem include:\n",
    "\n",
    "- The sample is randomly selected from the population.\n",
    "- The sample size is sufficiently large (typically n ≥ 30 for a normal population or unknown population distribution).\n",
    "- The observations in the sample are independent of each other."
   ]
  },
  {
   "cell_type": "code",
   "execution_count": null,
   "id": "9a284b2b-f27d-4939-b162-6f3d84d3f6d5",
   "metadata": {},
   "outputs": [],
   "source": []
  }
 ],
 "metadata": {
  "kernelspec": {
   "display_name": "Python 3 (ipykernel)",
   "language": "python",
   "name": "python3"
  },
  "language_info": {
   "codemirror_mode": {
    "name": "ipython",
    "version": 3
   },
   "file_extension": ".py",
   "mimetype": "text/x-python",
   "name": "python",
   "nbconvert_exporter": "python",
   "pygments_lexer": "ipython3",
   "version": "3.11.7"
  }
 },
 "nbformat": 4,
 "nbformat_minor": 5
}
