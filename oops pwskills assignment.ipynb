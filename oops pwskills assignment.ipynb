{
 "cells": [
  {
   "cell_type": "markdown",
   "id": "3b703afd-c3c6-4b34-a40c-9b3b3b2c446a",
   "metadata": {},
   "source": [
    "Assignment"
   ]
  },
  {
   "cell_type": "code",
   "execution_count": 14,
   "id": "e3aa57da-22ab-4c6c-a473-73a97b665358",
   "metadata": {},
   "outputs": [],
   "source": [
    "\"\"\" create a vehicle class with an init method having instance variable as name_of_variable, max_speed and average_of_vehicle.\"\"\"\n",
    "class vehicle:\n",
    "    def __init__(self, name_of_vehicle, max_speed, average_of_vehicle):\n",
    "        self.name_of_vehicle = name_of_vehicle\n",
    "        self.max_speed = max_speed\n",
    "        self.average_of_vehicle = average_of_vehicle"
   ]
  },
  {
   "cell_type": "code",
   "execution_count": 23,
   "id": "99c910b8-2ff0-49b3-86ff-d9c1a08fb652",
   "metadata": {},
   "outputs": [
    {
     "name": "stdout",
     "output_type": "stream",
     "text": [
      "The Thar has a seating capacity of 4 people.\n"
     ]
    }
   ],
   "source": [
    "\"\"\" question 2. Create a child class car from the vehicle class created in question 1, which will inherit the vehicle class.\n",
    "create a method named seating_capacity which takes capacity as an argument and return the name of the vehicle and its seating capacity\"\"\"\n",
    "class car(vehicle):\n",
    "  def seating_capacity(self,capacity):\n",
    "        return f\"The {self.name_of_vehicle} has a seating capacity of {capacity} people.\"\n",
    "\n",
    "    \n",
    "Car = car(\"Thar\", 180,60)\n",
    "print(Car.seating_capacity(4))"
   ]
  },
  {
   "cell_type": "code",
   "execution_count": null,
   "id": "f4934a5c-1515-4717-b948-7b6a4a82e4de",
   "metadata": {},
   "outputs": [],
   "source": [
    "\"\"\"Q3: What is multiple inheritance? Write a pyhton code to demonstrate multiple inheritance\"\"\""
   ]
  },
  {
   "cell_type": "code",
   "execution_count": 25,
   "id": "4249da3b-d59f-47f0-a8d2-ce6923a0799e",
   "metadata": {},
   "outputs": [
    {
     "data": {
      "text/plain": [
       "'This is class 1'"
      ]
     },
     "execution_count": 25,
     "metadata": {},
     "output_type": "execute_result"
    }
   ],
   "source": [
    "class class1:\n",
    "    def test_class1(self):\n",
    "        return \"This is class 1\"\n",
    "\n",
    "\n",
    "class class2:\n",
    "    def test_class2(self):\n",
    "        return \"This is class 2\"\n",
    "\n",
    "class class3(class1, class2):\n",
    "    pass\n",
    "\n",
    "obj_class = class3()\n",
    "obj_class.test_class1()\n",
    "#obj_class.test_class2()"
   ]
  },
  {
   "cell_type": "code",
   "execution_count": 37,
   "id": "21d4a70c-5a1f-4d97-b81b-d7a304c94d30",
   "metadata": {},
   "outputs": [
    {
     "data": {
      "text/plain": [
       "45"
      ]
     },
     "execution_count": 37,
     "metadata": {},
     "output_type": "execute_result"
    }
   ],
   "source": [
    "\"\"\"Q4 : What are getter and setter in python? Create a class and create a getter and a setter method in this class\"\"\"\n",
    "\n",
    "class car:\n",
    "    def __init__(self,year,make,model,speed):\n",
    "        self.__year = year\n",
    "        self.__make = make\n",
    "        self.__model = model\n",
    "        self.__speed = 0\n",
    "    def set_speed(self,speed):\n",
    "        self.__speed = 0 if speed <0 else speed\n",
    "        \n",
    "    def get_speed(self):\n",
    "        return self.__speed\n",
    "\n",
    "c = car(2021,\"toyota\",\"inova\",12)\n",
    "#c._car__year\n",
    "c.set_speed(45)\n",
    "c.get_speed()"
   ]
  },
  {
   "cell_type": "code",
   "execution_count": null,
   "id": "009ed8c3-d050-4b8b-a07a-d8b0623dad96",
   "metadata": {},
   "outputs": [],
   "source": [
    "\"\"\"Q5: What is method overriding in python ? Write a python code to demonstrate method overriding.\"\"\""
   ]
  }
 ],
 "metadata": {
  "kernelspec": {
   "display_name": "Python 3 (ipykernel)",
   "language": "python",
   "name": "python3"
  },
  "language_info": {
   "codemirror_mode": {
    "name": "ipython",
    "version": 3
   },
   "file_extension": ".py",
   "mimetype": "text/x-python",
   "name": "python",
   "nbconvert_exporter": "python",
   "pygments_lexer": "ipython3",
   "version": "3.11.7"
  }
 },
 "nbformat": 4,
 "nbformat_minor": 5
}
