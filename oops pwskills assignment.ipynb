{
 "cells": [
  {
   "cell_type": "markdown",
   "id": "3b703afd-c3c6-4b34-a40c-9b3b3b2c446a",
   "metadata": {},
   "source": [
    "Assignment"
   ]
  },
  {
   "cell_type": "code",
   "execution_count": 1,
   "id": "e3aa57da-22ab-4c6c-a473-73a97b665358",
   "metadata": {},
   "outputs": [],
   "source": [
    "\"\"\" create a vehicle class with an init method having instance variable as name_of_variable, max_speed and average_of_vehicle.\"\"\"\n",
    "class vehicle:\n",
    "    def __init__(self, name_of_vehicle, max_speed, average_of_vehicle):\n",
    "        self.name_of_vehicle = name_of_vehicle\n",
    "        self.max_speed = max_speed\n",
    "        self.average_of_vehicle = average_of_vehicle\n",
    "\n",
    "    def vehicle_details(self):\n",
    "        return self.name_of_vehicle"
   ]
  },
  {
   "cell_type": "code",
   "execution_count": 3,
   "id": "208bf620-7d3c-4155-beab-feecb2e4f097",
   "metadata": {},
   "outputs": [
    {
     "data": {
      "text/plain": [
       "'car'"
      ]
     },
     "execution_count": 3,
     "metadata": {},
     "output_type": "execute_result"
    }
   ],
   "source": [
    "veh = vehicle(\"car\", 100, 45)\n",
    "veh.vehicle_details()"
   ]
  },
  {
   "cell_type": "code",
   "execution_count": null,
   "id": "99c910b8-2ff0-49b3-86ff-d9c1a08fb652",
   "metadata": {},
   "outputs": [],
   "source": [
    "\"\"\" question 2. Create a child class car from the vehicle class created in question 1, which will inherit the vehicle class.\n",
    "create a method named seating_capacity which takes capacity as an argument and return the name of the vehicle and its seating capacity\"\"\"\n"
   ]
  },
  {
   "cell_type": "code",
   "execution_count": null,
   "id": "f4934a5c-1515-4717-b948-7b6a4a82e4de",
   "metadata": {},
   "outputs": [],
   "source": [
    "\"\"\"Q3: What is multiple inheritance? Write a pyhton code to demonstrate multiple inheritance\"\"\""
   ]
  },
  {
   "cell_type": "code",
   "execution_count": null,
   "id": "21d4a70c-5a1f-4d97-b81b-d7a304c94d30",
   "metadata": {},
   "outputs": [],
   "source": [
    "\"\"\"Q4 : What are getter and setter in python? Create a class and create a getter and a setter method in this class\"\"\""
   ]
  },
  {
   "cell_type": "code",
   "execution_count": null,
   "id": "009ed8c3-d050-4b8b-a07a-d8b0623dad96",
   "metadata": {},
   "outputs": [],
   "source": [
    "\"\"\"Q5: What is method overriding in python ? Write a python code to demonstrate method overriding.\"\"\""
   ]
  }
 ],
 "metadata": {
  "kernelspec": {
   "display_name": "Python 3 (ipykernel)",
   "language": "python",
   "name": "python3"
  },
  "language_info": {
   "codemirror_mode": {
    "name": "ipython",
    "version": 3
   },
   "file_extension": ".py",
   "mimetype": "text/x-python",
   "name": "python",
   "nbconvert_exporter": "python",
   "pygments_lexer": "ipython3",
   "version": "3.11.7"
  }
 },
 "nbformat": 4,
 "nbformat_minor": 5
}
