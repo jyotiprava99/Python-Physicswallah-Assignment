{
 "cells": [
  {
   "cell_type": "markdown",
   "id": "a68e5190-7a30-4b68-ac27-574549e036dd",
   "metadata": {},
   "source": [
    "Q1: Explainthe following with an example\n",
    "1. Artificial Intelligence\n",
    "2. Machine Learning\n",
    "3. Deep learning"
   ]
  },
  {
   "cell_type": "markdown",
   "id": "98dd42b6-d972-4ed9-90b9-f8877d0bbbd1",
   "metadata": {},
   "source": [
    "1.Artificial Intelligence : Artificial Intelligence refers to the development of computer systems that can perform tasks that typically require human Intelligence. It involves creating algorithms and models that enable machines to learn , reason and make decisions. AI can be used in various fields like healthcare, finance and even social media.\n",
    "\n",
    "\n",
    "2.Machine Learning: Machine learning is a subset of Artificial Intelligence that focuses on teaching computers to learn and improve from experience without being explicitly programmed. It's like giving machines the ability to learn and make predictions based on patterns and data. It's used in many applications like image recognition,speech recognition and recommendation systems.\n",
    "\n",
    "\n",
    "3.Deep learning : Deep learning is a subfield of machine learning that uses artificial neural networks to model and understand comples patterns and relationships in data. It's inspired by the structure and function of the human brain. Deep learning algorithms can analyse and process large amounts of data to make predictions or solve problems.\n"
   ]
  },
  {
   "cell_type": "markdown",
   "id": "a1b67f43-acfc-4893-9737-a269265fcab4",
   "metadata": {},
   "source": [
    "Q2: What is supervised learning? List some examples of supervised learning."
   ]
  },
  {
   "cell_type": "markdown",
   "id": "a12c42eb-2e99-4064-a37d-a50d44672f27",
   "metadata": {},
   "source": [
    "Ans: Supervised learning is a type of machine learning where an algorithm is trained on a dataset that includes input data and corresponding output labels. \n",
    "Examples of Supervised learning:\n",
    "1.Email spam classification\n",
    "\n",
    "2. Image classificaton \n",
    "\n",
    "3. Sentimental Analysis \n",
    "\n",
    "4.Stock price prediction"
   ]
  },
  {
   "cell_type": "markdown",
   "id": "1225bdad-2543-4dde-9950-13459bb2b17b",
   "metadata": {},
   "source": [
    "Q3: What is unsupervised learning ? List some examples of unsupervised learning"
   ]
  },
  {
   "cell_type": "markdown",
   "id": "5e65ed0e-2fbd-44a4-9239-e510602b8bac",
   "metadata": {},
   "source": [
    "Ans: Unsupervised learning is a type of machine learning where the algorithm learns patterns and relationships in data without any predefined labels or explicit guidance. In unsupervised learning, the algorithm explores the data on its own to discover inherent structures or patterns."
   ]
  },
  {
   "cell_type": "markdown",
   "id": "fe6ffc74-9c2d-4963-bee7-0e15ce2291b8",
   "metadata": {},
   "source": [
    "Q4: What is the difference between AI, ML, DL,and DS?"
   ]
  },
  {
   "cell_type": "markdown",
   "id": "6038fa3f-3a56-47a4-9988-b863087f17fa",
   "metadata": {},
   "source": [
    "Ans: AI(Artificial Intelligence):refers to the development of computer systems that can perform tasks that typically require human intelligence. It encompasses a wide range of techiques and approaches, including machine learning and deep learning."
   ]
  },
  {
   "cell_type": "markdown",
   "id": "2f0a374f-899b-4cb2-865f-6b56b68bb1ca",
   "metadata": {},
   "source": [
    "Q5:What are the main differences between supervised, unsupervised, and semi-supervised learning?"
   ]
  },
  {
   "cell_type": "markdown",
   "id": "812f8fc4-6c1f-4049-92c9-79d1893901ad",
   "metadata": {},
   "source": [
    "Q6:What is train, test and validation split? Explain the importance of each term"
   ]
  },
  {
   "cell_type": "markdown",
   "id": "9256fd6e-a4ac-4ae0-a454-5f4db1c6aad9",
   "metadata": {},
   "source": [
    "Q7:How can unsupervised learning be used in anomaly detection?"
   ]
  },
  {
   "cell_type": "markdown",
   "id": "a1372250-73b5-48dc-8ead-f20a1cc2f2a8",
   "metadata": {},
   "source": [
    "Q8: List down some commonly used supervised learning algorithms."
   ]
  },
  {
   "cell_type": "code",
   "execution_count": null,
   "id": "f3db8d89-5f52-4caa-a0ef-4fb84afd9574",
   "metadata": {},
   "outputs": [],
   "source": []
  }
 ],
 "metadata": {
  "kernelspec": {
   "display_name": "Python 3 (ipykernel)",
   "language": "python",
   "name": "python3"
  },
  "language_info": {
   "codemirror_mode": {
    "name": "ipython",
    "version": 3
   },
   "file_extension": ".py",
   "mimetype": "text/x-python",
   "name": "python",
   "nbconvert_exporter": "python",
   "pygments_lexer": "ipython3",
   "version": "3.11.7"
  }
 },
 "nbformat": 4,
 "nbformat_minor": 5
}
