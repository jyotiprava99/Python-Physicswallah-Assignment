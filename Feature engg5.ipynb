{
 "cells": [
  {
   "cell_type": "markdown",
   "id": "592e5b33-d872-4923-8bfb-9972bd376d41",
   "metadata": {},
   "source": [
    "Q1. To calculate the Pearson correlation coefficient between the amount of time students spend studying for an exam and their final exam scores, you would follow these steps:\n",
    "\n",
    "1. Gather the data for both variables.\n",
    "2. Compute the mean (average) of each variable.\n",
    "3. Compute the difference between each data point and its respective mean for both variables.\n",
    "4. Compute the product of these differences.\n",
    "5. Sum the products of differences.\n",
    "6. Compute the square root of the sum of squared differences for each variable.\n",
    "7. Divide the sum of products of differences by the product of the square roots of the sum of squared differences for each variable.\n",
    "\n",
    "Interpretation:\n",
    "- The Pearson correlation coefficient ranges from -1 to 1. \n",
    "- A coefficient of 1 indicates a perfect positive linear relationship, -1 indicates a perfect negative linear relationship, and 0 indicates no linear relationship.\n",
    "- Interpret the coefficient in the context of the study, considering whether there is a positive or negative relationship between study time and exam scores and the strength of the relationship.\n",
    "\n",
    "Q2. To calculate Spearman's rank correlation between the amount of sleep individuals get each night and their overall job satisfaction level:\n",
    "\n",
    "1. Rank the values of each variable separately.\n",
    "2. Calculate the difference in ranks for each pair of corresponding values.\n",
    "3. Square these differences.\n",
    "4. Compute the sum of squared differences.\n",
    "5. Use the formula to calculate Spearman's rank correlation coefficient.\n",
    "\n",
    "Interpretation:\n",
    "- Spearman's rank correlation coefficient ranges from -1 to 1.\n",
    "- A coefficient close to 1 indicates a strong positive monotonic relationship, -1 indicates a strong negative monotonic relationship, and 0 indicates no monotonic relationship.\n",
    "- Interpret the coefficient in the context of the study, considering whether there is a positive or negative monotonic relationship between sleep and job satisfaction and the strength of the relationship.\n",
    "\n"
   ]
  },
  {
   "cell_type": "code",
   "execution_count": null,
   "id": "23168a59-6fef-4984-9308-4a09f1963606",
   "metadata": {},
   "outputs": [],
   "source": []
  }
 ],
 "metadata": {
  "kernelspec": {
   "display_name": "Python 3 (ipykernel)",
   "language": "python",
   "name": "python3"
  },
  "language_info": {
   "codemirror_mode": {
    "name": "ipython",
    "version": 3
   },
   "file_extension": ".py",
   "mimetype": "text/x-python",
   "name": "python",
   "nbconvert_exporter": "python",
   "pygments_lexer": "ipython3",
   "version": "3.11.7"
  }
 },
 "nbformat": 4,
 "nbformat_minor": 5
}
