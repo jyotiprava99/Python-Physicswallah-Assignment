{
 "cells": [
  {
   "cell_type": "markdown",
   "id": "28f832b8-9bea-47c0-8cc6-769dc6058502",
   "metadata": {},
   "source": [
    "How do you comment code in Python? What are the different types of comments?"
   ]
  },
  {
   "cell_type": "code",
   "execution_count": null,
   "id": "df0050c0-e6a3-48fb-a02f-e79507ab14cd",
   "metadata": {},
   "outputs": [],
   "source": [
    "By using #, \"\"\"......\"\"\",\n",
    "1. # single line comment\n",
    "2. \"\"\".....\"\"\" multiline comment"
   ]
  },
  {
   "cell_type": "markdown",
   "id": "790b2563-0082-4a46-a397-eb9cd631de59",
   "metadata": {},
   "source": [
    "2. What are variables in python ? How do you declare and assign values to variables?"
   ]
  },
  {
   "cell_type": "code",
   "execution_count": 1,
   "id": "a8e34fe9-02ee-4983-8c20-a92bb458f54b",
   "metadata": {},
   "outputs": [
    {
     "name": "stdout",
     "output_type": "stream",
     "text": [
      "24\n"
     ]
    }
   ],
   "source": [
    "\"\"\"A variable is a reserved ,memory location to store values\n",
    "variable is created the moment you first assign a value to it.\"\"\"\n",
    "var = 24\n",
    "print(var)"
   ]
  },
  {
   "cell_type": "markdown",
   "id": "300f8814-2ed4-442f-826c-97b7c1de3b6e",
   "metadata": {},
   "source": [
    "3. How do you convert one data type to another in python?"
   ]
  },
  {
   "cell_type": "code",
   "execution_count": 12,
   "id": "d5cb3f5f-80bc-42ae-8b65-c121f0a5d8b0",
   "metadata": {},
   "outputs": [
    {
     "name": "stdout",
     "output_type": "stream",
     "text": [
      "345\n"
     ]
    }
   ],
   "source": [
    "num1 = 345.56\n",
    "num2 = int(num1)  #converting the float value to int datatype\n",
    "print(num2)"
   ]
  },
  {
   "cell_type": "markdown",
   "id": "20d6d618-12c1-4227-b3d9-bd325919394e",
   "metadata": {},
   "source": [
    "4. How do you write and execute a python script from the command lines?"
   ]
  },
  {
   "cell_type": "code",
   "execution_count": null,
   "id": "0dd65f34-7ed8-494e-8a12-63083db06b72",
   "metadata": {},
   "outputs": [],
   "source": [
    "\"\"\"1. open a terminal or command prompt.\n",
    "2. Navigate to the directory where your Python script is located using the \"cd\" command\n",
    "3. Once you are in the correct directory, you can run the python script by typing\"python\"\n",
    "followed by the name of your script file. For example , if your script is"
   ]
  },
  {
   "cell_type": "markdown",
   "id": "adb6be61-8154-4d92-abbb-d5990de2e8df",
   "metadata": {},
   "source": [
    "5. Given a list my_list = [1,2,3,4,5] , write the code to slice the list and obtain the sub-list [2,3]"
   ]
  },
  {
   "cell_type": "code",
   "execution_count": 4,
   "id": "b8c33856-a7e7-44a3-9428-9842b7ec1d29",
   "metadata": {},
   "outputs": [
    {
     "data": {
      "text/plain": [
       "[2, 3]"
      ]
     },
     "execution_count": 4,
     "metadata": {},
     "output_type": "execute_result"
    }
   ],
   "source": [
    "my_list = [1,2,3,4,5]\n",
    "my_list[1:3]"
   ]
  },
  {
   "cell_type": "markdown",
   "id": "9ce5f8d0-0566-45d1-b0f2-4f98b8f6cc5e",
   "metadata": {},
   "source": [
    "6. What is a complex number in mathematics? how it is represented in Python?"
   ]
  },
  {
   "cell_type": "code",
   "execution_count": 11,
   "id": "9962c640-23e3-4020-b3fc-d5418999fa16",
   "metadata": {},
   "outputs": [
    {
     "data": {
      "text/plain": [
       "complex"
      ]
     },
     "execution_count": 11,
     "metadata": {},
     "output_type": "execute_result"
    }
   ],
   "source": [
    "#complex numbers are two vaalues having a real and imaginary value. for ex : 5+10j.\n",
    "comp_num = 10+5j\n",
    "comp_num\n",
    "type(comp_num)"
   ]
  },
  {
   "cell_type": "markdown",
   "id": "6956340d-7fb8-41d4-b7e6-f36ed552469d",
   "metadata": {},
   "source": [
    "7. What is the correct way to declare a variable named age and assign the value 25 to it?"
   ]
  },
  {
   "cell_type": "code",
   "execution_count": 5,
   "id": "a056a7dc-8478-49f6-ab02-f66ae0cb3f11",
   "metadata": {},
   "outputs": [
    {
     "data": {
      "text/plain": [
       "25"
      ]
     },
     "execution_count": 5,
     "metadata": {},
     "output_type": "execute_result"
    }
   ],
   "source": [
    "age = 25\n",
    "age"
   ]
  },
  {
   "cell_type": "markdown",
   "id": "f16a7469-dc13-4d6d-8727-14bbcd700920",
   "metadata": {},
   "source": [
    "8. Declare a variable named_price and assign the value 9.99 to it . What datatype does this variable belong to?"
   ]
  },
  {
   "cell_type": "code",
   "execution_count": 6,
   "id": "99fe63c1-d868-46f8-aa26-eec80a35af64",
   "metadata": {},
   "outputs": [
    {
     "data": {
      "text/plain": [
       "float"
      ]
     },
     "execution_count": 6,
     "metadata": {},
     "output_type": "execute_result"
    }
   ],
   "source": [
    "named_price = 9.99\n",
    "type(named_price)"
   ]
  },
  {
   "cell_type": "markdown",
   "id": "80573534-899d-43b3-8837-03996def0cf8",
   "metadata": {},
   "source": [
    "9. Create a variable named name and assign your fullname to it as a string. How would you print the value to this variable?"
   ]
  },
  {
   "cell_type": "code",
   "execution_count": 7,
   "id": "a854772b-84e9-40dc-8f14-700dd850ac50",
   "metadata": {},
   "outputs": [
    {
     "data": {
      "text/plain": [
       "'Jyoti prava Samal'"
      ]
     },
     "execution_count": 7,
     "metadata": {},
     "output_type": "execute_result"
    }
   ],
   "source": [
    "name = \"Jyoti prava Samal\"\n",
    "name"
   ]
  },
  {
   "cell_type": "markdown",
   "id": "5a97306d-c97a-421c-bfa7-0b3d2ca9a1e6",
   "metadata": {},
   "source": [
    "10.Given string \"Hello World!\", extract the substring \"world\""
   ]
  },
  {
   "cell_type": "code",
   "execution_count": 8,
   "id": "28b6aa54-22a4-4529-a46c-27e878dcc123",
   "metadata": {},
   "outputs": [
    {
     "data": {
      "text/plain": [
       "'world'"
      ]
     },
     "execution_count": 8,
     "metadata": {},
     "output_type": "execute_result"
    }
   ],
   "source": [
    "str = \"Hello World\"\n",
    "str[6:].lower()"
   ]
  },
  {
   "cell_type": "markdown",
   "id": "cfab2e3c-1f2d-4bb5-b409-234a3ebecba6",
   "metadata": {},
   "source": [
    "11. Create a variable named \"is_student\" and assign it a boolean value indicating whether you are currently a student or not?"
   ]
  },
  {
   "cell_type": "code",
   "execution_count": 9,
   "id": "ce71192c-7ddc-4504-8221-d6c718efe7d2",
   "metadata": {},
   "outputs": [
    {
     "data": {
      "text/plain": [
       "True"
      ]
     },
     "execution_count": 9,
     "metadata": {},
     "output_type": "execute_result"
    }
   ],
   "source": [
    "is_student = True\n",
    "is_student"
   ]
  },
  {
   "cell_type": "code",
   "execution_count": null,
   "id": "293f3251-8635-481c-b694-e00dd77ad08d",
   "metadata": {},
   "outputs": [],
   "source": []
  }
 ],
 "metadata": {
  "kernelspec": {
   "display_name": "Python 3 (ipykernel)",
   "language": "python",
   "name": "python3"
  },
  "language_info": {
   "codemirror_mode": {
    "name": "ipython",
    "version": 3
   },
   "file_extension": ".py",
   "mimetype": "text/x-python",
   "name": "python",
   "nbconvert_exporter": "python",
   "pygments_lexer": "ipython3",
   "version": "3.11.7"
  }
 },
 "nbformat": 4,
 "nbformat_minor": 5
}
